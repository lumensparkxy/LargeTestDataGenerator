{
 "cells": [
  {
   "cell_type": "markdown",
   "metadata": {},
   "source": [
    "# Large Test Data Generator"
   ]
  },
  {
   "cell_type": "markdown",
   "metadata": {},
   "source": [
    "### Author: Vivek Maswadkar"
   ]
  },
  {
   "cell_type": "markdown",
   "metadata": {},
   "source": [
    "import all the required libraries<br/>\n",
    "**random** is to generate random numbers and strings<br/>\n",
    "**phonenumbers** is a library that gives us sample phone numbers for specified country<br/>\n",
    "**sring** and **time** are inbuilt libraries provided by python"
   ]
  },
  {
   "cell_type": "code",
   "execution_count": 1,
   "metadata": {
    "collapsed": true
   },
   "outputs": [],
   "source": [
    "import random\n",
    "import json\n",
    "import string\n",
    "import phonenumbers\n",
    "import time\n",
    "import pymongo"
   ]
  },
  {
   "cell_type": "markdown",
   "metadata": {},
   "source": [
    " "
   ]
  },
  {
   "cell_type": "markdown",
   "metadata": {},
   "source": [
    "function which gives you a random phone number for the given country code<br/>\n",
    "**country code** is ISO ALPHA-2 Code e.g. switzerland code is **CH**"
   ]
  },
  {
   "cell_type": "code",
   "execution_count": 2,
   "metadata": {
    "collapsed": true
   },
   "outputs": [],
   "source": [
    "def get_phonenumber(region_code):\n",
    "    example_number = phonenumbers.example_number(region_code)\n",
    "    phone_number_length = len(str(example_number.national_number))\n",
    "    random_phone_number = str(random.randrange(10**int(phone_number_length-1),10**int(phone_number_length)))\n",
    "    return(\"+\" + str(example_number.country_code) + random_phone_number)"
   ]
  },
  {
   "cell_type": "markdown",
   "metadata": {},
   "source": [
    " "
   ]
  },
  {
   "cell_type": "markdown",
   "metadata": {},
   "source": [
    "this function gives you a random date between **start** date and **end** date given<br/>\n",
    "**prop** is the random number between 0 and 1<br/>\n",
    "**format** is the format mentioned in time.strftime<br/>"
   ]
  },
  {
   "cell_type": "code",
   "execution_count": 3,
   "metadata": {
    "collapsed": true
   },
   "outputs": [],
   "source": [
    "def randomDateBetween(start, end, format, prop):\n",
    "    \"\"\"Get a time at a proportion of a range of two formatted times.\n",
    "\n",
    "    start and end should be strings specifying times formated in the\n",
    "    given format (strftime-style), giving an interval [start, end].\n",
    "    prop specifies how a proportion of the interval to be taken after\n",
    "    start.  The returned time will be in the specified format.\n",
    "    \"\"\"\n",
    "\n",
    "    stime = time.mktime(time.strptime(start, format))\n",
    "    etime = time.mktime(time.strptime(end, format))\n",
    "\n",
    "    ptime = stime + prop * (etime - stime)\n",
    "    \n",
    "    return time.strftime(format, time.localtime(ptime))"
   ]
  },
  {
   "cell_type": "markdown",
   "metadata": {},
   "source": [
    " "
   ]
  },
  {
   "cell_type": "markdown",
   "metadata": {},
   "source": [
    "is valid card"
   ]
  },
  {
   "cell_type": "code",
   "execution_count": 4,
   "metadata": {
    "collapsed": true
   },
   "outputs": [],
   "source": [
    "def is_valid_card(cardnumber):\n",
    "    def digits_of(n):\n",
    "        return [int(d) for d in str(n)]\n",
    "\n",
    "    digits = digits_of(cardnumber)\n",
    "    #print(digits)\n",
    "    odd_numbers= digits[-1::-2]\n",
    "    even_numbers = digits[-2::-2]\n",
    "    total_sum= sum(odd_numbers)\n",
    "    #print(total_sum)\n",
    "    for x in even_numbers:\n",
    "        total_sum += (sum(digits_of(x*2)))\n",
    "    #print(total_sum)\n",
    "    return total_sum % 10 == 0"
   ]
  },
  {
   "cell_type": "markdown",
   "metadata": {},
   "source": [
    " "
   ]
  },
  {
   "cell_type": "markdown",
   "metadata": {},
   "source": [
    "Credit card number generator"
   ]
  },
  {
   "cell_type": "code",
   "execution_count": 5,
   "metadata": {
    "collapsed": true
   },
   "outputs": [],
   "source": [
    "def getCreditCard(country,bank_name,card_type):\n",
    "    client = pymongo.MongoClient()\n",
    "    db = client.creditcards\n",
    "    cursor = db.details\n",
    "    \n",
    "    x = cursor.find({'country':country,'bank_name':bank_name,'card_type':card_type})\n",
    "    this_instance = x[random.randint(0,x.count()-1)]\n",
    "    prefix = this_instance['bin_range']\n",
    "    \n",
    "    length = int(this_instance['number_length'])\n",
    "    creditCard = prefix\n",
    "    for i in range(1,length-len(prefix)):\n",
    "        creditCard+=str(random.choice(range(0,10)))\n",
    "    \n",
    "    for i in range(0,10):\n",
    "        pp = creditCard+str(i)\n",
    "        if is_valid_card(pp):\n",
    "            creditCard = pp\n",
    "            break\n",
    "    \n",
    "    return creditCard"
   ]
  },
  {
   "cell_type": "markdown",
   "metadata": {},
   "source": [
    " "
   ]
  },
  {
   "cell_type": "markdown",
   "metadata": {},
   "source": [
    "\n",
    "<br/>This is the core function of the program<br>\n",
    "this creates one row at a time depending on column definations mentioned in our \n",
    "<span style=\"font-family:courier\">\n",
    "\"master_parameters.json\" </span> file<br>"
   ]
  },
  {
   "cell_type": "code",
   "execution_count": 6,
   "metadata": {
    "collapsed": true
   },
   "outputs": [],
   "source": [
    "def create_row(column_definations):\n",
    "    row_value = \"\"\n",
    "    for x in column_definations:\n",
    "        \n",
    "        f_country_array = [\"AU\",\"CA\",\"DE\",\"ES\",\"GB\"] + [\"CH\"]*96        \n",
    "        f_country = random.choice(f_country_array)    \n",
    "        \n",
    "        #each if block if for datatype. You can add your own datatypes\n",
    "        #e.g. datatype == \"email\" can be string.ascii_letters + string.digits + '@'\n",
    "        if x[\"datatype\"] == \"string\":\n",
    "            if x[\"is_variable_legth\"]:\n",
    "                if x[\"is_null\"]:\n",
    "                    ll = random.randint(0,x[\"length\"])\n",
    "                else:\n",
    "                    ll = random.randint(1,x[\"length\"])\n",
    "            else:\n",
    "                ll = x[\"length\"]\n",
    "            value_of_string = ''.join(random.choice(string.ascii_letters + string.digits + 'äëöü') for _ in range(ll))\n",
    "            value_of_string = '\"' + value_of_string + '\"'\n",
    "        ####################\n",
    "        elif x[\"datatype\"] == \"file\":\n",
    "            f= open(x[\"file_path\"],encoding=\"utf8\")\n",
    "            test = []\n",
    "            for row in f:\n",
    "                test.append(row.rstrip(\"\\n\"))\n",
    "            value_of_string=random.choice(test)\n",
    "            value_of_string = '\"' + value_of_string + '\"'\n",
    "        ####################\n",
    "        \n",
    "        elif x[\"datatype\"] == \"ssn\":\n",
    "            value_of_string = str(random.randrange(100,999)) + \"-\" + str(random.randrange(10,99)) + \"-\" + str(random.randrange(100,999))\n",
    "            value_of_string = '\"' + value_of_string + '\"'\n",
    "        ####################\n",
    "        elif x[\"datatype\"] == \"number\":\n",
    "            value_of_string = str(random.randrange(10**int(x[\"min_range\"]),10**int(x[\"max_range\"])))\n",
    "            value_of_string = '\"' + value_of_string + '\"'\n",
    "        ####################\n",
    "        elif x[\"datatype\"] == \"phonenumber\":\n",
    "            value_of_string = get_phonenumber(f_country)\n",
    "            value_of_string = '\"' + value_of_string + '\"'\n",
    "        ####################\n",
    "        elif x[\"datatype\"] == \"xdate\":\n",
    "            value_of_string = randomDateBetween(x[\"from_date\"], x[\"until_date\"],x[\"date_format\"], random.random())\n",
    "            value_of_string = '\"' + value_of_string + '\"'\n",
    "        ####################\n",
    "        elif x[\"datatype\"] == \"country\":\n",
    "            #country_array = [\"AD\",\"AE\",\"AF\",\"AG\",\"AI\",\"AL\",\"AM\",\"AO\",\"AQ\",\"AR\",\"AS\",\"AT\",\"AU\",\"AW\",\"AX\",\"AZ\",\"BA\",\"BB\",\"BD\",\"BE\",\"BF\",\"BG\",\"BH\",\"BI\",\"BJ\",\"BL\",\"BM\",\"BN\",\"BO\",\"BQ\",\"BR\",\"BS\",\"BT\",\"BV\",\"BW\",\"BY\",\"BZ\",\"CA\",\"CC\",\"CD\",\"CF\",\"CG\",\"CH\",\"CI\",\"CK\",\"CL\",\"CM\",\"CN\",\"CO\",\"CR\",\"CU\",\"CV\",\"CW\",\"CX\",\"CY\",\"CZ\",\"DE\",\"DJ\",\"DK\",\"DM\",\"DO\",\"DZ\",\"EC\",\"EE\",\"EG\",\"EH\",\"ER\",\"ES\",\"ET\",\"FI\",\"FJ\",\"FK\",\"FM\",\"FO\",\"FR\",\"GA\",\"GB\",\"GD\",\"GE\",\"GF\",\"GG\",\"GH\",\"GI\",\"GL\",\"GM\",\"GN\",\"GP\",\"GQ\",\"GR\",\"GS\",\"GT\",\"GU\",\"GW\",\"GY\",\"HK\",\"HM\",\"HN\",\"HR\",\"HT\",\"HU\",\"ID\",\"IE\",\"IL\",\"IM\",\"IN\",\"IO\",\"IQ\",\"IR\",\"IS\",\"IT\",\"JE\",\"JM\",\"JO\",\"JP\",\"KE\",\"KG\",\"KH\",\"KI\",\"KM\",\"KN\",\"KP\",\"KR\",\"KW\",\"KY\",\"KZ\",\"LA\",\"LB\",\"LC\",\"LI\",\"LK\",\"LR\",\"LS\",\"LT\",\"LU\",\"LV\",\"LY\",\"MA\",\"MC\",\"MD\",\"ME\",\"MF\",\"MG\",\"MH\",\"MK\",\"ML\",\"MM\",\"MN\",\"MO\",\"MP\",\"MQ\",\"MR\",\"MS\",\"MT\",\"MU\",\"MV\",\"MW\",\"MX\",\"MY\",\"MZ\",\"NA\",\"NC\",\"NE\",\"NF\",\"NG\",\"NI\",\"NL\",\"NO\",\"NP\",\"NR\",\"NU\",\"NZ\",\"OM\",\"PA\",\"PE\",\"PF\",\"PG\",\"PH\",\"PK\",\"PL\",\"PM\",\"PN\",\"PR\",\"PS\",\"PT\",\"PW\",\"PY\",\"QA\",\"RE\",\"RO\",\"RS\",\"RU\",\"RW\",\"SA\",\"SB\",\"SC\",\"SD\",\"SE\",\"SG\",\"SH\",\"SI\",\"SJ\",\"SK\",\"SL\",\"SM\",\"SN\",\"SO\",\"SR\",\"SS\",\"ST\",\"SV\",\"SX\",\"SY\",\"SZ\",\"TC\",\"TD\",\"TF\",\"TG\",\"TH\",\"TJ\",\"TK\",\"TL\",\"TM\",\"TN\",\"TO\",\"TR\",\"TT\",\"TV\",\"TW\",\"TZ\",\"UA\",\"UG\",\"UM\",\"US\",\"UY\",\"UZ\",\"VA\",\"VC\",\"VE\",\"VG\",\"VI\",\"VN\",\"VU\",\"WF\",\"WS\",\"YE\",\"YT\",\"ZA\",\"ZM\",\"ZW\"]\n",
    "            value_of_string = f_country\n",
    "            value_of_string = '\"' + value_of_string + '\"'\n",
    "            \n",
    "        ####################\n",
    "        elif x[\"datatype\"] == \"address\":\n",
    "            f_address= open(x[\"file_path\"],encoding=\"utf8\")\n",
    "            address_array = []\n",
    "            for row in f_address:\n",
    "                address_array.append(row.rstrip(\"\\n\"))\n",
    "            value_of_string=random.choice(address_array)\n",
    "            value_of_string = '\"' + value_of_string + '\"'\n",
    "        ####################        \n",
    "        elif x[\"datatype\"] == \"creditcard\":\n",
    "            value_of_string = getCreditCard(x['country'],x['bank_name'],x['card_type'])\n",
    "            value_of_string = '\"' + value_of_string + '\"'\n",
    "        ####################\n",
    "        \n",
    "\n",
    "        if row_value == \"\":\n",
    "            row_value = value_of_string\n",
    "        else:\n",
    "            row_value = row_value + separator+ value_of_string\n",
    "    return(row_value)"
   ]
  },
  {
   "cell_type": "markdown",
   "metadata": {},
   "source": [
    " "
   ]
  },
  {
   "cell_type": "markdown",
   "metadata": {},
   "source": [
    "This is the **main** function which \n",
    " - iterates for number of rows mentioned\n",
    " - writes the rows in the file"
   ]
  },
  {
   "cell_type": "code",
   "execution_count": 9,
   "metadata": {},
   "outputs": [
    {
     "name": "stdout",
     "output_type": "stream",
     "text": [
      "CPU times: user 4.4 s, sys: 580 ms, total: 4.98 s\n",
      "Wall time: 6.61 s\n"
     ]
    }
   ],
   "source": [
    "%%time\n",
    "\n",
    "#read the parameter file and parse it for further processing\n",
    "with open('customer_master_parameters.json') as data_file:\n",
    "    data = json.load(data_file)\n",
    "separator=(data[\"separator\"])\n",
    "\n",
    "\n",
    "f = open(data[\"filename\"],'w',encoding=\"utf8\")\n",
    "for i in range(data[\"number_of_rows\"]):\n",
    "    each_row=create_row(data[\"columns\"]).rstrip('\\n')\n",
    "    print(each_row ,file=f)\n",
    "f.close()"
   ]
  },
  {
   "cell_type": "markdown",
   "metadata": {},
   "source": [
    " "
   ]
  },
  {
   "cell_type": "markdown",
   "metadata": {
    "collapsed": true
   },
   "source": [
    "## END"
   ]
  }
 ],
 "metadata": {
  "kernelspec": {
   "display_name": "Python 3",
   "language": "python",
   "name": "python3"
  },
  "language_info": {
   "codemirror_mode": {
    "name": "ipython",
    "version": 3
   },
   "file_extension": ".py",
   "mimetype": "text/x-python",
   "name": "python",
   "nbconvert_exporter": "python",
   "pygments_lexer": "ipython3",
   "version": "3.5.2"
  }
 },
 "nbformat": 4,
 "nbformat_minor": 2
}
