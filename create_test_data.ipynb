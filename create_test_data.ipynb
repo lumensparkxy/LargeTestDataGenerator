{
 "cells": [
  {
   "cell_type": "markdown",
   "metadata": {},
   "source": [
    "# Large Test Data Generator"
   ]
  },
  {
   "cell_type": "markdown",
   "metadata": {},
   "source": [
    "### # Author: Vivek Maswadkar"
   ]
  },
  {
   "cell_type": "code",
   "execution_count": null,
   "metadata": {
    "collapsed": true
   },
   "outputs": [],
   "source": [
    "import random\n",
    "import json\n",
    "import string\n",
    "import phonenumbers\n",
    "import time"
   ]
  },
  {
   "cell_type": "code",
   "execution_count": null,
   "metadata": {
    "collapsed": true
   },
   "outputs": [],
   "source": [
    "with open('customer_master_parameters.json') as data_file:\n",
    "    data = json.load(data_file)\n",
    "separator=(data[\"separator\"])"
   ]
  },
  {
   "cell_type": "code",
   "execution_count": null,
   "metadata": {
    "collapsed": true
   },
   "outputs": [],
   "source": [
    "def get_phonenumber(region_code):\n",
    "    example_number = phonenumbers.example_number(region_code)\n",
    "    phone_number_length = len(str(example_number.national_number))\n",
    "    random_phone_number = str(random.randrange(10**int(phone_number_length-1),10**int(phone_number_length)))\n",
    "    return(\"+\" + str(example_number.country_code) + random_phone_number)"
   ]
  },
  {
   "cell_type": "code",
   "execution_count": null,
   "metadata": {
    "collapsed": true
   },
   "outputs": [],
   "source": [
    "def randomDateBetween(start, end, format, prop):\n",
    "    \"\"\"Get a time at a proportion of a range of two formatted times.\n",
    "\n",
    "    start and end should be strings specifying times formated in the\n",
    "    given format (strftime-style), giving an interval [start, end].\n",
    "    prop specifies how a proportion of the interval to be taken after\n",
    "    start.  The returned time will be in the specified format.\n",
    "    \"\"\"\n",
    "\n",
    "    stime = time.mktime(time.strptime(start, format))\n",
    "    etime = time.mktime(time.strptime(end, format))\n",
    "\n",
    "    ptime = stime + prop * (etime - stime)\n",
    "    \n",
    "    return time.strftime(format, time.localtime(ptime))"
   ]
  },
  {
   "cell_type": "code",
   "execution_count": null,
   "metadata": {
    "collapsed": true
   },
   "outputs": [],
   "source": [
    "def create_row(column_definations):\n",
    "    row_value = \"\"\n",
    "    for x in column_definations:\n",
    "        \n",
    "        f_country_array = [\"AU\",\"CA\",\"DE\",\"ES\",\"GB\"] + [\"CH\"]*96\n",
    "        \n",
    "        f_country = random.choice(f_country_array)    \n",
    "        \n",
    "        #each if block if for datatype. You can add your own datatypes\n",
    "        #e.g. datatype == \"email\" can be string.ascii_letters + string.digits + '@'\n",
    "        if x[\"datatype\"] == \"string\":\n",
    "            if x[\"is_variable_legth\"]:\n",
    "                if x[\"is_null\"]:\n",
    "                    ll = random.randint(0,x[\"length\"])\n",
    "                else:\n",
    "                    ll = random.randint(1,x[\"length\"])\n",
    "            else:\n",
    "                ll = x[\"length\"]\n",
    "            value_of_string = ''.join(random.choice(string.ascii_letters + string.digits + 'äëöü') for _ in range(ll))\n",
    "            value_of_string = '\"' + value_of_string + '\"'\n",
    "        ####################\n",
    "        elif x[\"datatype\"] == \"file\":\n",
    "            f= open(x[\"file_path\"],encoding=\"utf8\")\n",
    "            test = []\n",
    "            for row in f:\n",
    "                test.append(row.rstrip(\"\\n\"))\n",
    "            value_of_string=random.choice(test)\n",
    "            value_of_string = '\"' + value_of_string + '\"'\n",
    "        ####################\n",
    "        \n",
    "        elif x[\"datatype\"] == \"ssn\":\n",
    "            value_of_string = str(random.randrange(100,999)) + \"-\" + str(random.randrange(10,99)) + \"-\" + str(random.randrange(100,999))\n",
    "            value_of_string = '\"' + value_of_string + '\"'\n",
    "        ####################\n",
    "        elif x[\"datatype\"] == \"number\":\n",
    "            value_of_string = str(random.randrange(10**int(x[\"min_range\"]),10**int(x[\"max_range\"])))\n",
    "            value_of_string = '\"' + value_of_string + '\"'\n",
    "        ####################\n",
    "        elif x[\"datatype\"] == \"phonenumber\":\n",
    "            value_of_string = get_phonenumber(f_country)\n",
    "            value_of_string = '\"' + value_of_string + '\"'\n",
    "        ####################\n",
    "        elif x[\"datatype\"] == \"xdate\":\n",
    "            value_of_string = randomDateBetween(x[\"from_date\"], x[\"until_date\"],x[\"date_format\"], random.random())\n",
    "            value_of_string = '\"' + value_of_string + '\"'\n",
    "        ####################\n",
    "        elif x[\"datatype\"] == \"country\":\n",
    "            #country_array = [\"AD\",\"AE\",\"AF\",\"AG\",\"AI\",\"AL\",\"AM\",\"AO\",\"AQ\",\"AR\",\"AS\",\"AT\",\"AU\",\"AW\",\"AX\",\"AZ\",\"BA\",\"BB\",\"BD\",\"BE\",\"BF\",\"BG\",\"BH\",\"BI\",\"BJ\",\"BL\",\"BM\",\"BN\",\"BO\",\"BQ\",\"BR\",\"BS\",\"BT\",\"BV\",\"BW\",\"BY\",\"BZ\",\"CA\",\"CC\",\"CD\",\"CF\",\"CG\",\"CH\",\"CI\",\"CK\",\"CL\",\"CM\",\"CN\",\"CO\",\"CR\",\"CU\",\"CV\",\"CW\",\"CX\",\"CY\",\"CZ\",\"DE\",\"DJ\",\"DK\",\"DM\",\"DO\",\"DZ\",\"EC\",\"EE\",\"EG\",\"EH\",\"ER\",\"ES\",\"ET\",\"FI\",\"FJ\",\"FK\",\"FM\",\"FO\",\"FR\",\"GA\",\"GB\",\"GD\",\"GE\",\"GF\",\"GG\",\"GH\",\"GI\",\"GL\",\"GM\",\"GN\",\"GP\",\"GQ\",\"GR\",\"GS\",\"GT\",\"GU\",\"GW\",\"GY\",\"HK\",\"HM\",\"HN\",\"HR\",\"HT\",\"HU\",\"ID\",\"IE\",\"IL\",\"IM\",\"IN\",\"IO\",\"IQ\",\"IR\",\"IS\",\"IT\",\"JE\",\"JM\",\"JO\",\"JP\",\"KE\",\"KG\",\"KH\",\"KI\",\"KM\",\"KN\",\"KP\",\"KR\",\"KW\",\"KY\",\"KZ\",\"LA\",\"LB\",\"LC\",\"LI\",\"LK\",\"LR\",\"LS\",\"LT\",\"LU\",\"LV\",\"LY\",\"MA\",\"MC\",\"MD\",\"ME\",\"MF\",\"MG\",\"MH\",\"MK\",\"ML\",\"MM\",\"MN\",\"MO\",\"MP\",\"MQ\",\"MR\",\"MS\",\"MT\",\"MU\",\"MV\",\"MW\",\"MX\",\"MY\",\"MZ\",\"NA\",\"NC\",\"NE\",\"NF\",\"NG\",\"NI\",\"NL\",\"NO\",\"NP\",\"NR\",\"NU\",\"NZ\",\"OM\",\"PA\",\"PE\",\"PF\",\"PG\",\"PH\",\"PK\",\"PL\",\"PM\",\"PN\",\"PR\",\"PS\",\"PT\",\"PW\",\"PY\",\"QA\",\"RE\",\"RO\",\"RS\",\"RU\",\"RW\",\"SA\",\"SB\",\"SC\",\"SD\",\"SE\",\"SG\",\"SH\",\"SI\",\"SJ\",\"SK\",\"SL\",\"SM\",\"SN\",\"SO\",\"SR\",\"SS\",\"ST\",\"SV\",\"SX\",\"SY\",\"SZ\",\"TC\",\"TD\",\"TF\",\"TG\",\"TH\",\"TJ\",\"TK\",\"TL\",\"TM\",\"TN\",\"TO\",\"TR\",\"TT\",\"TV\",\"TW\",\"TZ\",\"UA\",\"UG\",\"UM\",\"US\",\"UY\",\"UZ\",\"VA\",\"VC\",\"VE\",\"VG\",\"VI\",\"VN\",\"VU\",\"WF\",\"WS\",\"YE\",\"YT\",\"ZA\",\"ZM\",\"ZW\"]\n",
    "            value_of_string = random.choice(f_country)\n",
    "            value_of_string = '\"' + value_of_string + '\"'\n",
    "        ####################\n",
    "        elif x[\"datatype\"] == \"address\":\n",
    "            f_address= open(x[\"file_path\"],encoding=\"utf8\")\n",
    "            address_array = []\n",
    "            for row in f_address:\n",
    "                address_array.append(row.rstrip(\"\\n\"))\n",
    "            value_of_string=random.choice(address_array)\n",
    "            value_of_string = '\"' + value_of_string + '\"'\n",
    "        ####################        \n",
    "        \n",
    "\n",
    "        if row_value == \"\":\n",
    "            row_value = value_of_string\n",
    "        else:\n",
    "            row_value = row_value + separator+ value_of_string\n",
    "    return(row_value)"
   ]
  },
  {
   "cell_type": "code",
   "execution_count": null,
   "metadata": {
    "collapsed": true
   },
   "outputs": [],
   "source": [
    "%%timeit\n",
    "f = open(data[\"filename\"],'w',encoding=\"utf8\")\n",
    "for i in range(data[\"number_of_rows\"]):\n",
    "    each_row=create_row(data[\"columns\"]).rstrip('\\n')\n",
    "    print(each_row ,file=f)\n",
    "f.close()"
   ]
  },
  {
   "cell_type": "code",
   "execution_count": null,
   "metadata": {
    "collapsed": true
   },
   "outputs": [],
   "source": []
  }
 ],
 "metadata": {
  "kernelspec": {
   "display_name": "Python 3",
   "language": "python",
   "name": "python3"
  },
  "language_info": {
   "codemirror_mode": {
    "name": "ipython",
    "version": 3
   },
   "file_extension": ".py",
   "mimetype": "text/x-python",
   "name": "python",
   "nbconvert_exporter": "python",
   "pygments_lexer": "ipython3",
   "version": "3.5.2"
  }
 },
 "nbformat": 4,
 "nbformat_minor": 2
}
