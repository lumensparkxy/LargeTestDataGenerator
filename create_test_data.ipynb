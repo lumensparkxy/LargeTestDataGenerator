{
 "cells": [
  {
   "cell_type": "markdown",
   "metadata": {},
   "source": [
    "# Large Test Data Generator"
   ]
  },
  {
   "cell_type": "markdown",
   "metadata": {},
   "source": [
    "### Author: Vivek Maswadkar"
   ]
  },
  {
   "cell_type": "markdown",
   "metadata": {},
   "source": [
    "import all the required libraries<br/>\n",
    "**random** is to generate random numbers and strings<br/>\n",
    "**phonenumbers** is a library that gives us sample phone numbers for specified country<br/>\n",
    "**sring** and **time** are inbuilt libraries provided by python"
   ]
  },
  {
   "cell_type": "code",
   "execution_count": null,
   "metadata": {},
   "outputs": [],
   "source": [
    "import random\n",
    "import json\n",
    "import string\n",
    "import time\n",
    "import pymongo\n",
    "import uuid\n",
    "import os"
   ]
  },
  {
   "cell_type": "code",
   "execution_count": null,
   "metadata": {},
   "outputs": [],
   "source": [
    "uri = uri = 'mongodb://' + os.environ.get('MONGOUSER') +  ':' + os.environ.get('MONGOPASSWORD') + '@' + os.environ.get('MONGOSERVER') + ':27017'"
   ]
  },
  {
   "cell_type": "markdown",
   "metadata": {},
   "source": [
    " "
   ]
  },
  {
   "cell_type": "markdown",
   "metadata": {},
   "source": [
    "Initial f_country_array from weights and country codes "
   ]
  },
  {
   "cell_type": "code",
   "execution_count": null,
   "metadata": {},
   "outputs": [],
   "source": [
    "def initializeCountryList():\n",
    "    country_client = pymongo.MongoClient(uri)\n",
    "    country_db = country_client.iso\n",
    "    country_coll = country_db.details\n",
    "    country_cursor = country_coll.find({'for_address':1})\n",
    "\n",
    "    countryList = []\n",
    "    for a in country_cursor:\n",
    "        temp=[]\n",
    "        temp.append(a['alpha-2'])\n",
    "        temp=temp*int(a['weight'])\n",
    "        countryList = countryList+temp\n",
    "    return countryList"
   ]
  },
  {
   "cell_type": "markdown",
   "metadata": {},
   "source": [
    " "
   ]
  },
  {
   "cell_type": "markdown",
   "metadata": {},
   "source": [
    "Initialize phone number list"
   ]
  },
  {
   "cell_type": "code",
   "execution_count": null,
   "metadata": {},
   "outputs": [],
   "source": [
    "def initializePhoneList():\n",
    "        phone_client = pymongo.MongoClient(uri)\n",
    "        phone_db = phone_client.iso\n",
    "        phone_coll = phone_db.details\n",
    "        phone_cursor = phone_coll.find({},{'_id':0,'alpha-2':1,'dialCode':1,'eg_phone_number':1})\n",
    "        \n",
    "        phoneList=[]\n",
    "        \n",
    "        for phoneNumber in phone_cursor:\n",
    "            phoneList.append(phoneNumber)\n",
    "        \n",
    "        return phoneList\n",
    "        "
   ]
  },
  {
   "cell_type": "markdown",
   "metadata": {},
   "source": [
    "function which gives you a random phone number for the given country code<br/>\n",
    "**country code** is ISO ALPHA-2 Code e.g. switzerland code is **CH**"
   ]
  },
  {
   "cell_type": "code",
   "execution_count": null,
   "metadata": {},
   "outputs": [],
   "source": [
    "def get_phonenumber(region_code):\n",
    "    global f_phone_array\n",
    "    for phone in f_phone_array:\n",
    "        if phone['alpha-2'] == region_code:\n",
    "            #example_number = phonenumbers.example_number(region_code)\n",
    "            phone_number_length = len(str(phone['eg_phone_number']))\n",
    "            random_phone_number = str(random.randrange(10**int(phone_number_length-1),10**int(phone_number_length)))\n",
    "            return(\"+\" + str(phone['dialCode']) + random_phone_number)\n",
    "            break"
   ]
  },
  {
   "cell_type": "markdown",
   "metadata": {},
   "source": [
    " "
   ]
  },
  {
   "cell_type": "markdown",
   "metadata": {},
   "source": [
    "this function gives you a random date between **start** date and **end** date given<br/>\n",
    "**prop** is the random number between 0 and 1<br/>\n",
    "**format** is the format mentioned in time.strftime<br/>"
   ]
  },
  {
   "cell_type": "code",
   "execution_count": null,
   "metadata": {},
   "outputs": [],
   "source": [
    "def randomDateBetween(start, end, format, prop):\n",
    "    \"\"\"Get a time at a proportion of a range of two formatted times.\n",
    "\n",
    "    start and end should be strings specifying times formated in the\n",
    "    given format (strftime-style), giving an interval [start, end].\n",
    "    prop specifies how a proportion of the interval to be taken after\n",
    "    start.  The returned time will be in the specified format.\n",
    "    \"\"\"\n",
    "\n",
    "    stime = time.mktime(time.strptime(start, format))\n",
    "    etime = time.mktime(time.strptime(end, format))\n",
    "\n",
    "    ptime = stime + prop * (etime - stime)\n",
    "    \n",
    "    return time.strftime(format, time.localtime(ptime))"
   ]
  },
  {
   "cell_type": "markdown",
   "metadata": {},
   "source": [
    " "
   ]
  },
  {
   "cell_type": "markdown",
   "metadata": {},
   "source": [
    "is valid card"
   ]
  },
  {
   "cell_type": "code",
   "execution_count": null,
   "metadata": {},
   "outputs": [],
   "source": [
    "def is_valid_card(cardnumber):\n",
    "    def digits_of(n):\n",
    "        return [int(d) for d in str(n)]\n",
    "\n",
    "    digits = digits_of(cardnumber)\n",
    "    #print(digits)\n",
    "    odd_numbers= digits[-1::-2]\n",
    "    even_numbers = digits[-2::-2]\n",
    "    total_sum= sum(odd_numbers)\n",
    "    #print(total_sum)\n",
    "    for x in even_numbers:\n",
    "        total_sum += (sum(digits_of(x*2)))\n",
    "    #print(total_sum)\n",
    "    return total_sum % 10 == 0"
   ]
  },
  {
   "cell_type": "markdown",
   "metadata": {},
   "source": [
    " "
   ]
  },
  {
   "cell_type": "markdown",
   "metadata": {},
   "source": [
    "Credit card number generator"
   ]
  },
  {
   "cell_type": "code",
   "execution_count": null,
   "metadata": {},
   "outputs": [],
   "source": [
    "def getCreditCard(country,bank_name,card_type):\n",
    "    client = pymongo.MongoClient(uri)\n",
    "    db = client.creditcards\n",
    "    cursor = db.details\n",
    "    \n",
    "    x = cursor.find({'country':country,'bank_name':bank_name,'card_type':card_type})\n",
    "    this_instance = x[random.randint(0,x.count()-1)]\n",
    "    prefix = this_instance['bin_range']\n",
    "    \n",
    "    length = int(this_instance['number_length'])\n",
    "    creditCard = prefix\n",
    "    for i in range(1,length-len(prefix)):\n",
    "        creditCard+=str(random.choice(range(0,10)))\n",
    "    \n",
    "    for i in range(0,10):\n",
    "        pp = creditCard+str(i)\n",
    "        if is_valid_card(pp):\n",
    "            creditCard = pp\n",
    "            break\n",
    "    \n",
    "    return creditCard"
   ]
  },
  {
   "cell_type": "markdown",
   "metadata": {},
   "source": [
    " "
   ]
  },
  {
   "cell_type": "markdown",
   "metadata": {},
   "source": [
    "address from mongoDB"
   ]
  },
  {
   "cell_type": "code",
   "execution_count": null,
   "metadata": {},
   "outputs": [],
   "source": [
    "def getAddress(country):\n",
    "    address_client = pymongo.MongoClient(uri)\n",
    "    address_db = address_client.postal_address\n",
    "    address_cursor = address_db.details\n",
    "    \n",
    "    x = address_cursor.aggregate([{'$sample':{'size':1}},{'$match':{'country':country}},{ '$out' : 'random_address' }])\n",
    "    address_client.close()\n",
    "    \n",
    "    \n",
    "    address_client = pymongo.MongoClient(uri)\n",
    "    address_db = address_client.postal_address\n",
    "    address_cursor = address_db.random_address\n",
    "    \n",
    "    if address_cursor.count() == 0:\n",
    "        return None\n",
    "    else:\n",
    "        singleone = address_cursor.find({},{'_id':0})\n",
    "        return singleone[0]"
   ]
  },
  {
   "cell_type": "code",
   "execution_count": null,
   "metadata": {},
   "outputs": [],
   "source": [
    "def getSampleAddress(country):\n",
    "    retry_count=0\n",
    "    while retry_count< 5:\n",
    "        singleAddress =  getAddress('CH')\n",
    "        if singleAddress != None:\n",
    "            retry_count = 99\n",
    "            return singleAddress\n",
    "        else:\n",
    "            retry_count+=1"
   ]
  },
  {
   "cell_type": "markdown",
   "metadata": {},
   "source": [
    "unique values from the list"
   ]
  },
  {
   "cell_type": "code",
   "execution_count": null,
   "metadata": {},
   "outputs": [],
   "source": [
    "def initializeList(filename):\n",
    "    f = open(filename,encoding='utf8')\n",
    "    templist = []\n",
    "    for i in f:\n",
    "        templist.append(i.rstrip('\\n'))\n",
    "    templist = list(set(templist))\n",
    "    return templist"
   ]
  },
  {
   "cell_type": "code",
   "execution_count": null,
   "metadata": {},
   "outputs": [],
   "source": [
    "def getitemfromlist(filename):\n",
    "    global myfile\n",
    "    if filename in myfile:\n",
    "        if len(myfile[filename]) > 0:\n",
    "            return myfile[filename].pop(random.randint(0,len(myfile[filename])-1))\n",
    "        else:\n",
    "            return None\n",
    "    else:\n",
    "        filearray = initializeList(filename)\n",
    "        myfile[filename] = filearray\n",
    "        return myfile[filename].pop(random.randint(0,len(myfile[filename])-1))"
   ]
  },
  {
   "cell_type": "code",
   "execution_count": null,
   "metadata": {},
   "outputs": [],
   "source": [
    "def getanyitemfromlist(filename):\n",
    "    global myfile\n",
    "    if filename in myfile:\n",
    "        if len(myfile[filename]) > 0:\n",
    "            return myfile[filename][random.randint(0,len(myfile[filename])-1)]\n",
    "        else:\n",
    "            return None\n",
    "    else:\n",
    "        filearray = initializeList(filename)\n",
    "        myfile[filename] = filearray\n",
    "        return myfile[filename][random.randint(0,len(myfile[filename])-1)]"
   ]
  },
  {
   "cell_type": "code",
   "execution_count": null,
   "metadata": {},
   "outputs": [],
   "source": [
    "def initializeDB(parameter):\n",
    "    global data\n",
    "    address_client = pymongo.MongoClient(uri)\n",
    "    address_db = address_client.postal_address\n",
    "    address_cursor = address_db.details\n",
    "    \n",
    "    x = address_cursor.aggregate([{'$sample':{'size':10000}},{'$match':{'country':parameter}},{ '$out' : 'random_address' }])\n",
    "    address_client.close()\n",
    "    \n",
    "    \n",
    "    address_client = pymongo.MongoClient(uri)\n",
    "    address_db = address_client.postal_address\n",
    "    address_cursor = address_db.random_address\n",
    "    \n",
    "    addresses = address_cursor.find({},{'_id':0})\n",
    "    \n",
    "    templist = []\n",
    "    for each_address in addresses:\n",
    "        templist.append(each_address)\n",
    "    \n",
    "    return templist"
   ]
  },
  {
   "cell_type": "code",
   "execution_count": null,
   "metadata": {},
   "outputs": [],
   "source": [
    "def getitemfromDB(parameter):\n",
    "    global myfile\n",
    "    if parameter in myfile:\n",
    "        if len(myfile[parameter]) > 0:\n",
    "            return myfile[parameter].pop(0)\n",
    "        else:\n",
    "            return None\n",
    "    else:\n",
    "        myfile[parameter] = initializeDB(parameter)\n",
    "        return myfile[parameter].pop(0)"
   ]
  },
  {
   "cell_type": "code",
   "execution_count": null,
   "metadata": {},
   "outputs": [],
   "source": [
    "def initializecreditcardList(country, bank, cardtype):\n",
    "    cc_client = pymongo.MongoClient(uri)\n",
    "    cc_db = cc_client.creditcards\n",
    "    cc_cursor = cc_db.details\n",
    "    \n",
    "    cc = cc_cursor.find({'country':country,'bank_name':bank,'card_type':cardtype},{'_id':0})\n",
    "    \n",
    "    templist = []\n",
    "    for each_cc in cc:\n",
    "        templist.append(each_cc)\n",
    "    \n",
    "    return templist"
   ]
  },
  {
   "cell_type": "code",
   "execution_count": null,
   "metadata": {},
   "outputs": [],
   "source": [
    "def db_getCreditCard(country, bank, cardtype):\n",
    "    global myfile\n",
    "    parameter = country + bank + cardtype\n",
    "    if parameter in myfile:\n",
    "        if len(myfile[parameter]) > 0:\n",
    "            x=myfile[parameter]\n",
    "        else:\n",
    "            return None\n",
    "    else:\n",
    "        myfile[parameter] = initializecreditcardList(country, bank, cardtype)\n",
    "        x=myfile[parameter]\n",
    "\n",
    "\n",
    "    this_instance = random.choice(x)\n",
    "    prefix = this_instance['bin_range']\n",
    "    \n",
    "    length = int(this_instance['number_length'])\n",
    "    creditCard = prefix\n",
    "    for i in range(1,length-len(prefix)):\n",
    "        creditCard+=str(random.choice(range(0,10)))\n",
    "    \n",
    "    for i in range(0,10):\n",
    "        pp = creditCard+str(i)\n",
    "        if is_valid_card(pp):\n",
    "            creditCard = pp\n",
    "            break\n",
    "    \n",
    "    return creditCard"
   ]
  },
  {
   "cell_type": "markdown",
   "metadata": {},
   "source": [
    "\n",
    "<br/>This is the core function of the program<br>\n",
    "this creates one row at a time depending on column definations mentioned in our \n",
    "<span style=\"font-family:courier\">\n",
    "\"master_parameters.json\" </span> file<br>"
   ]
  },
  {
   "cell_type": "code",
   "execution_count": null,
   "metadata": {},
   "outputs": [],
   "source": [
    "def create_row(column_definations):\n",
    "    row_value = \"\"\n",
    "    global f_country_array\n",
    "    #f_country_array = [\"AU\",\"CA\",\"DE\",\"ES\",\"GB\"] + [\"CH\"]*96        \n",
    "    f_country = random.choice(f_country_array)  \n",
    "    \n",
    "    for x in column_definations:\n",
    "        \n",
    "        #each if block if for datatype. You can add your own datatypes\n",
    "        #e.g. datatype == \"email\" can be string.ascii_letters + string.digits + '@'\n",
    "        if x[\"datatype\"] == \"string\":\n",
    "            if x[\"is_variable_legth\"]:\n",
    "                if x[\"is_null\"]:\n",
    "                    ll = random.randint(0,x[\"length\"])\n",
    "                else:\n",
    "                    ll = random.randint(1,x[\"length\"])\n",
    "            else:\n",
    "                ll = x[\"length\"]\n",
    "            value_of_string = ''.join(random.choice(string.ascii_letters + string.digits + 'äëöü') for _ in range(ll))\n",
    "            value_of_string = '\"' + value_of_string + '\"'\n",
    "        ####################\n",
    "        elif x[\"datatype\"] == \"file\":\n",
    "            \n",
    "            value_of_string = getanyitemfromlist(x[\"file_path\"])\n",
    "            \n",
    "            #f= open(x[\"file_path\"],encoding=\"utf8\")\n",
    "            #test = []\n",
    "            #for row in f:\n",
    "            #    test.append(row.rstrip(\"\\n\"))\n",
    "            #value_of_string=random.choice(test)\n",
    "            value_of_string = '\"' + value_of_string + '\"'\n",
    "        ####################\n",
    "        \n",
    "        elif x[\"datatype\"] == \"ssn\":\n",
    "            value_of_string = str(random.randrange(100,999)) + \"-\" + str(random.randrange(10,99)) + \"-\" + str(random.randrange(100,999))\n",
    "            value_of_string = '\"' + value_of_string + '\"'\n",
    "        ####################\n",
    "        elif x[\"datatype\"] == \"number\":\n",
    "            value_of_string = str(random.randrange(10**int(x[\"min_range\"]),10**int(x[\"max_range\"])))\n",
    "            value_of_string = '\"' + value_of_string + '\"'\n",
    "        ####################\n",
    "        elif x[\"datatype\"] == \"phonenumber\":\n",
    "            value_of_string = get_phonenumber(f_country)\n",
    "            value_of_string = '\"' + value_of_string + '\"'\n",
    "        ####################\n",
    "        elif x[\"datatype\"] == \"xdate\":\n",
    "            value_of_string = randomDateBetween(x[\"from_date\"], x[\"until_date\"],x[\"date_format\"], random.random())\n",
    "            value_of_string = '\"' + value_of_string + '\"'\n",
    "        ####################\n",
    "        elif x[\"datatype\"] == \"country\":\n",
    "            value_of_string = f_country\n",
    "            value_of_string = '\"' + value_of_string + '\"'\n",
    "            \n",
    "        ####################\n",
    "        elif x[\"datatype\"] == \"address\":\n",
    "            f_address= open(\"input/\" + f_country + \".csv\",encoding=\"utf8\")\n",
    "            address_array = []\n",
    "            for row in f_address:\n",
    "                address_array.append(row.rstrip(\"\\n\"))\n",
    "            value_of_string=random.choice(address_array)\n",
    "            value_of_string = '\"' + value_of_string + '\"'\n",
    "        ####################        \n",
    "        elif x[\"datatype\"] == \"creditcard\":\n",
    "            value_of_string = db_getCreditCard(x['country'],x['bank_name'],x['card_type'])\n",
    "            value_of_string = '\"' + value_of_string + '\"'\n",
    "        ####################\n",
    "        elif x[\"datatype\"] == \"mongo_address\":\n",
    "            value_of_string = getitemfromDB(f_country)\n",
    "            value_of_string = '\"' + str(value_of_string) + '\"'\n",
    "        ####################        \n",
    "        elif x[\"datatype\"] == \"unique_values\":\n",
    "            value_of_string = getitemfromlist(x['file_path'])\n",
    "            value_of_string = '\"' + str(value_of_string) + '\"'\n",
    "        ####################        \n",
    "        elif x[\"datatype\"] == \"mychoice\":\n",
    "            value_of_string = random.choice(x['choices'])\n",
    "            value_of_string = '\"' + str(value_of_string) + '\"'\n",
    "        ####################        \n",
    "        elif x[\"datatype\"] == \"uuid\":\n",
    "            value_of_string = uuid.uuid4()\n",
    "            value_of_string = '\"' + str(value_of_string) + '\"'\n",
    "        ####################        \n",
    "\n",
    "        \n",
    "        \n",
    "        if row_value == \"\":\n",
    "            row_value = value_of_string\n",
    "        else:\n",
    "            row_value = row_value + separator+ value_of_string\n",
    "    return(row_value)"
   ]
  },
  {
   "cell_type": "markdown",
   "metadata": {},
   "source": [
    " "
   ]
  },
  {
   "cell_type": "markdown",
   "metadata": {},
   "source": [
    "This is the **main** function which \n",
    " - iterates for number of rows mentioned\n",
    " - writes the rows in the file"
   ]
  },
  {
   "cell_type": "code",
   "execution_count": null,
   "metadata": {},
   "outputs": [],
   "source": [
    "%%time\n",
    "\n",
    "f_country_array=initializeCountryList()\n",
    "f_phone_array = initializePhoneList()\n",
    "myfile = {}\n",
    "\n",
    "\n",
    "#read the parameter file and parse it for further processing\n",
    "with open('customer_master_parameters.json') as data_file:\n",
    "    data = json.load(data_file)\n",
    "separator=(data[\"separator\"])\n",
    "\n",
    "\n",
    "f = open(data[\"filename\"],'w',encoding=\"utf8\")\n",
    "for i in range(data[\"number_of_rows\"]):\n",
    "    each_row=create_row(data[\"columns\"]).rstrip('\\n')\n",
    "    print(each_row ,file=f)\n",
    "f.close()"
   ]
  },
  {
   "cell_type": "code",
   "execution_count": null,
   "metadata": {},
   "outputs": [],
   "source": [
    "myfile.keys()"
   ]
  },
  {
   "cell_type": "code",
   "execution_count": null,
   "metadata": {},
   "outputs": [],
   "source": []
  },
  {
   "cell_type": "markdown",
   "metadata": {},
   "source": [
    " "
   ]
  },
  {
   "cell_type": "markdown",
   "metadata": {},
   "source": [
    "## END"
   ]
  }
 ],
 "metadata": {
  "kernelspec": {
   "display_name": "Python 3",
   "language": "python",
   "name": "python3"
  },
  "language_info": {
   "codemirror_mode": {
    "name": "ipython",
    "version": 3
   },
   "file_extension": ".py",
   "mimetype": "text/x-python",
   "name": "python",
   "nbconvert_exporter": "python",
   "pygments_lexer": "ipython3",
   "version": "3.7.3"
  }
 },
 "nbformat": 4,
 "nbformat_minor": 4
}
