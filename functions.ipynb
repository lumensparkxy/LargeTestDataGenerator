{
 "cells": [
  {
   "cell_type": "code",
   "execution_count": 9,
   "metadata": {},
   "outputs": [],
   "source": [
    "import pymongo\n",
    "import random\n",
    "\n",
    "import testdataconfig"
   ]
  },
  {
   "cell_type": "code",
   "execution_count": 14,
   "metadata": {},
   "outputs": [],
   "source": [
    "def is_valid_card(cardnumber):\n",
    "    def digits_of(n):\n",
    "        return [int(d) for d in str(n)]\n",
    "\n",
    "    digits = digits_of(cardnumber)\n",
    "    #print(digits)\n",
    "    odd_numbers= digits[-1::-2]\n",
    "    even_numbers = digits[-2::-2]\n",
    "    total_sum= sum(odd_numbers)\n",
    "    #print(total_sum)\n",
    "    for x in even_numbers:\n",
    "        total_sum += (sum(digits_of(x*2)))\n",
    "    #print(total_sum)\n",
    "    return total_sum % 10 == 0\n",
    "\n",
    "\n",
    "\n",
    "\n",
    "\n",
    "def getCreditCard(country,bank_name,card_type):\n",
    "    client = pymongo.MongoClient(testdataconfig.mongoCredentials['connectionstring'])\n",
    "    db = client.creditcards\n",
    "    cursor = db.details\n",
    "    \n",
    "    x = cursor.find({'country':country,'bank_name':bank_name,'card_type':card_type})\n",
    "    this_instance = x[random.randint(0,x.count()-1)]\n",
    "    prefix = this_instance['bin_range']\n",
    "    \n",
    "    length = int(this_instance['number_length'])\n",
    "    creditCard = prefix\n",
    "    for i in range(1,length-len(prefix)):\n",
    "        creditCard+=str(random.choice(range(0,10)))\n",
    "    \n",
    "    for i in range(0,10):\n",
    "        pp = creditCard+str(i)\n",
    "        if is_valid_card(pp):\n",
    "            creditCard = pp\n",
    "            break\n",
    "    \n",
    "    return creditCard"
   ]
  },
  {
   "cell_type": "code",
   "execution_count": 15,
   "metadata": {},
   "outputs": [
    {
     "name": "stderr",
     "output_type": "stream",
     "text": [
      "/usr/local/lib/python3.7/dist-packages/ipykernel_launcher.py:26: DeprecationWarning: count is deprecated. Use Collection.count_documents instead.\n"
     ]
    },
    {
     "data": {
      "text/plain": [
       "'372888179971997'"
      ]
     },
     "execution_count": 15,
     "metadata": {},
     "output_type": "execute_result"
    }
   ],
   "source": [
    "getCreditCard(country='usa',bank_name='lifemile',card_type='amex')"
   ]
  },
  {
   "cell_type": "code",
   "execution_count": null,
   "metadata": {},
   "outputs": [],
   "source": []
  }
 ],
 "metadata": {
  "kernelspec": {
   "display_name": "Python 3",
   "language": "python",
   "name": "python3"
  },
  "language_info": {
   "codemirror_mode": {
    "name": "ipython",
    "version": 3
   },
   "file_extension": ".py",
   "mimetype": "text/x-python",
   "name": "python",
   "nbconvert_exporter": "python",
   "pygments_lexer": "ipython3",
   "version": "3.7.3"
  }
 },
 "nbformat": 4,
 "nbformat_minor": 2
}
